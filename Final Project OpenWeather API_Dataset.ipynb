{
  "cells": [
    {
      "cell_type": "markdown",
      "metadata": {
        "id": "view-in-github",
        "colab_type": "text"
      },
      "source": [
        "<a href=\"https://colab.research.google.com/github/Scorpzgca/Data-Science-/blob/main/Final%20Project%20OpenWeather%20API_Dataset.ipynb\" target=\"_parent\"><img src=\"https://colab.research.google.com/assets/colab-badge.svg\" alt=\"Open In Colab\"/></a>"
      ]
    },
    {
      "cell_type": "code",
      "execution_count": null,
      "id": "3152cc66",
      "metadata": {
        "colab": {
          "base_uri": "https://localhost:8080/"
        },
        "id": "3152cc66",
        "outputId": "6c11bbb7-a244-49f6-83a0-fa92b22622b6"
      },
      "outputs": [
        {
          "output_type": "stream",
          "name": "stdout",
          "text": [
            "Requirement already satisfied: requests in /usr/local/lib/python3.11/dist-packages (2.32.3)\n",
            "Requirement already satisfied: pandas in /usr/local/lib/python3.11/dist-packages (2.2.2)\n",
            "Requirement already satisfied: matplotlib in /usr/local/lib/python3.11/dist-packages (3.10.0)\n",
            "Requirement already satisfied: charset-normalizer<4,>=2 in /usr/local/lib/python3.11/dist-packages (from requests) (3.4.2)\n",
            "Requirement already satisfied: idna<4,>=2.5 in /usr/local/lib/python3.11/dist-packages (from requests) (3.10)\n",
            "Requirement already satisfied: urllib3<3,>=1.21.1 in /usr/local/lib/python3.11/dist-packages (from requests) (2.5.0)\n",
            "Requirement already satisfied: certifi>=2017.4.17 in /usr/local/lib/python3.11/dist-packages (from requests) (2025.7.14)\n",
            "Requirement already satisfied: numpy>=1.23.2 in /usr/local/lib/python3.11/dist-packages (from pandas) (2.0.2)\n",
            "Requirement already satisfied: python-dateutil>=2.8.2 in /usr/local/lib/python3.11/dist-packages (from pandas) (2.9.0.post0)\n",
            "Requirement already satisfied: pytz>=2020.1 in /usr/local/lib/python3.11/dist-packages (from pandas) (2025.2)\n",
            "Requirement already satisfied: tzdata>=2022.7 in /usr/local/lib/python3.11/dist-packages (from pandas) (2025.2)\n",
            "Requirement already satisfied: contourpy>=1.0.1 in /usr/local/lib/python3.11/dist-packages (from matplotlib) (1.3.2)\n",
            "Requirement already satisfied: cycler>=0.10 in /usr/local/lib/python3.11/dist-packages (from matplotlib) (0.12.1)\n",
            "Requirement already satisfied: fonttools>=4.22.0 in /usr/local/lib/python3.11/dist-packages (from matplotlib) (4.59.0)\n",
            "Requirement already satisfied: kiwisolver>=1.3.1 in /usr/local/lib/python3.11/dist-packages (from matplotlib) (1.4.8)\n",
            "Requirement already satisfied: packaging>=20.0 in /usr/local/lib/python3.11/dist-packages (from matplotlib) (25.0)\n",
            "Requirement already satisfied: pillow>=8 in /usr/local/lib/python3.11/dist-packages (from matplotlib) (11.3.0)\n",
            "Requirement already satisfied: pyparsing>=2.3.1 in /usr/local/lib/python3.11/dist-packages (from matplotlib) (3.2.3)\n",
            "Requirement already satisfied: six>=1.5 in /usr/local/lib/python3.11/dist-packages (from python-dateutil>=2.8.2->pandas) (1.17.0)\n"
          ]
        }
      ],
      "source": [
        "# Final Project using API, Data Sets\n",
        "\n",
        "#Step 1 Sign Up for OpenWeather API\n",
        "\n",
        "!pip install requests pandas matplotlib"
      ]
    },
    {
      "cell_type": "code",
      "execution_count": null,
      "id": "4004c67f",
      "metadata": {
        "id": "4004c67f"
      },
      "outputs": [],
      "source": [
        "#Install Required Libraries\n",
        "\n",
        "# Import libraries\n",
        "\n",
        "import requests\n",
        "import pandas as pd\n",
        "import matplotlib.pyplot as plt"
      ]
    },
    {
      "cell_type": "markdown",
      "source": [
        "Final Project by Joseph Opoku"
      ],
      "metadata": {
        "id": "SWUu6Ktjyk5f"
      },
      "id": "SWUu6Ktjyk5f"
    },
    {
      "cell_type": "code",
      "execution_count": null,
      "id": "d840f793",
      "metadata": {
        "colab": {
          "base_uri": "https://localhost:8080/"
        },
        "id": "d840f793",
        "outputId": "378b66ec-33ba-4424-b34a-b78b12a4d870"
      },
      "outputs": [
        {
          "output_type": "stream",
          "name": "stdout",
          "text": [
            "Response status code: 200\n",
            "{'coord': {'lon': -0.1257, 'lat': 51.5085}, 'weather': [{'id': 804, 'main': 'Clouds', 'description': 'overcast clouds', 'icon': '04d'}], 'base': 'stations', 'main': {'temp': 19.73, 'feels_like': 19.74, 'temp_min': 18.9, 'temp_max': 20.51, 'pressure': 1016, 'humidity': 76, 'sea_level': 1016, 'grnd_level': 1012}, 'visibility': 10000, 'wind': {'speed': 3.09, 'deg': 230}, 'clouds': {'all': 100}, 'dt': 1753517413, 'sys': {'type': 2, 'id': 2075535, 'country': 'GB', 'sunrise': 1753503325, 'sunset': 1753559901}, 'timezone': 3600, 'id': 2643743, 'name': 'London', 'cod': 200}\n"
          ]
        }
      ],
      "source": [
        "#Step 3 API contrutct Request\n",
        "\n",
        "# Import libraries\n",
        "import requests\n",
        "import pandas as pd\n",
        "import matplotlib.pyplot as plt\n",
        "\n",
        "# Define your OpenWeather API key\n",
        "API_KEY = \"f822a1237dd31a0a06230568290599c8\"  # Replace with your actual API key!\n",
        "\n",
        "# Choose a city to get weather for\n",
        "city_name = \"London\"\n",
        "\n",
        "# Construct request URL\n",
        "url = f\"https://api.openweathermap.org/data/2.5/weather?q={city_name}&appid={API_KEY}&units=metric\"\n",
        "\n",
        "# Make API request\n",
        "\n",
        "response = requests.get(url)\n",
        "\n",
        "# Check the response status code\n",
        "print(f\"Response status code: {response.status_code}\")\n",
        "\n",
        "# Get the JSON data\n",
        "data = response.json()\n",
        "\n",
        "# Print the response\n",
        "print(data)"
      ]
    },
    {
      "cell_type": "code",
      "execution_count": null,
      "id": "4da4bb79",
      "metadata": {
        "colab": {
          "base_uri": "https://localhost:8080/"
        },
        "id": "4da4bb79",
        "outputId": "36c12988-a9e7-4cc6-b335-98e69a79ad8e"
      },
      "outputs": [
        {
          "output_type": "stream",
          "name": "stdout",
          "text": [
            "City: London\n",
            "Temperature: 19.13°C\n",
            "Humidity: 76%\n",
            "Weather: broken clouds\n"
          ]
        }
      ],
      "source": [
        "# Step 4 Extract Useful Information\n",
        "\n",
        "if \"main\" in data:\n",
        "    city = data[\"name\"]\n",
        "    temp = data[\"main\"][\"temp\"]\n",
        "    humidity = data[\"main\"][\"humidity\"]\n",
        "    weather = data[\"weather\"][0][\"description\"]\n",
        "\n",
        "    print(f\"City: {city}\\nTemperature: {temp}°C\\nHumidity: {humidity}%\\nWeather: {weather}\")\n",
        "else:\n",
        "    print(\"Error fetching weather data.\")"
      ]
    },
    {
      "cell_type": "code",
      "execution_count": null,
      "id": "d9215783",
      "metadata": {
        "colab": {
          "base_uri": "https://localhost:8080/"
        },
        "id": "d9215783",
        "outputId": "4be2e9f9-9692-45ca-e6ad-e755a6d00d21"
      },
      "outputs": [
        {
          "output_type": "stream",
          "name": "stdout",
          "text": [
            "     city  Temperature (°C)  Humidity (%) Weather Description\n",
            "0  London             19.13            76       broken clouds\n"
          ]
        }
      ],
      "source": [
        "# Step 5 Store Data in DataFrame\n",
        "\n",
        "data_dict = {\n",
        "    \"city\": [city],\n",
        "    \"Temperature (°C)\": [temp],\n",
        "    \"Humidity (%)\": [humidity],\n",
        "    \"Weather Description\": [weather]\n",
        "}\n",
        "\n",
        "weather_df = pd.DataFrame(data_dict)\n",
        "print(weather_df)"
      ]
    },
    {
      "cell_type": "code",
      "execution_count": null,
      "id": "510ffcb5",
      "metadata": {
        "colab": {
          "base_uri": "https://localhost:8080/"
        },
        "id": "510ffcb5",
        "outputId": "f6623047-e108-4718-8d35-f6681b7ae58f"
      },
      "outputs": [
        {
          "output_type": "stream",
          "name": "stdout",
          "text": [
            "Data saved to weather_data.csv\n"
          ]
        }
      ],
      "source": [
        "weather_df.to_csv(\"weather_data.csv\", index=False)\n",
        "print(\"Data saved to weather_data.csv\")"
      ]
    },
    {
      "cell_type": "code",
      "execution_count": null,
      "id": "a85ed132",
      "metadata": {
        "colab": {
          "base_uri": "https://localhost:8080/",
          "height": 410
        },
        "id": "a85ed132",
        "outputId": "23873de1-b6d2-421b-ad22-f7917c61e536"
      },
      "outputs": [
        {
          "output_type": "display_data",
          "data": {
            "text/plain": [
              "<Figure size 600x400 with 1 Axes>"
            ],
            "image/png": "[encoded data removed]"
          },
          "metadata": {}
        }
      ],
      "source": [
        "plt.figure(figsize=(6,4))\n",
        "plt.bar(weather_df[\"City\"], weather_df[\"Temperature (°C)\"], color='skyblue')\n",
        "plt.xlabel(\"City\")\n",
        "plt.ylabel(\"Temperature (°C)\")\n",
        "plt.title(\"Current Temperature\")\n",
        "plt.show()"
      ]
    },
    {
      "cell_type": "code",
      "execution_count": null,
      "id": "c3933f33",
      "metadata": {
        "colab": {
          "base_uri": "https://localhost:8080/"
        },
        "id": "c3933f33",
        "outputId": "48aafc12-f635-4b3d-f3e0-ffe02b175f05"
      },
      "outputs": [
        {
          "output_type": "stream",
          "name": "stdout",
          "text": [
            "       City  Temperature (°C)  Humidity (%) Weather Description\n",
            "0    London             22.18            55     overcast clouds\n",
            "1  New York             26.51            56       broken clouds\n",
            "2     Paris             19.99            75       broken clouds\n",
            "3     Tokyo             28.25            76          few clouds\n",
            "4    Sydney              9.77            64           clear sky\n"
          ]
        }
      ],
      "source": [
        "cities = [\"London\", \"New York\", \"Paris\", \"Tokyo\", \"Sydney\"]\n",
        "weather_data = []\n",
        "\n",
        "for city in cities:\n",
        "    url = f\"https://api.openweathermap.org/data/2.5/weather?q={city}&appid={API_KEY}&units=metric\"\n",
        "    response = requests.get(url)\n",
        "    data = response.json()\n",
        "\n",
        "    if \"main\" in data:\n",
        "        weather_data.append({\n",
        "            \"City\": city,\n",
        "            \"Temperature (°C)\": data[\"main\"][\"temp\"],\n",
        "            \"Humidity (%)\": data[\"main\"][\"humidity\"],\n",
        "            \"Weather Description\": data[\"weather\"][0][\"description\"]\n",
        "        })\n",
        "\n",
        "# Convert to DataFrame\n",
        "multi_city_df = pd.DataFrame(weather_data)\n",
        "print(multi_city_df)"
      ]
    },
    {
      "cell_type": "code",
      "execution_count": null,
      "id": "228681f0",
      "metadata": {
        "colab": {
          "base_uri": "https://localhost:8080/",
          "height": 487
        },
        "id": "228681f0",
        "outputId": "abc2b22c-6afc-4a1e-b863-64a931f2da8a"
      },
      "outputs": [
        {
          "output_type": "display_data",
          "data": {
            "text/plain": [
              "<Figure size 800x500 with 1 Axes>"
            ],
            "image/png": "[encoded data removed]"
          },
          "metadata": {}
        }
      ],
      "source": [
        "#Step 7: Visualizing Weather Trends\n",
        "\n",
        "plt.figure(figsize=(8,5))\n",
        "plt.bar(multi_city_df[\"City\"], multi_city_df[\"Temperature (°C)\"], color='coral')\n",
        "plt.xlabel(\"City\")\n",
        "plt.ylabel(\"Temperature (°C)\")\n",
        "plt.title(\"Weather Comparison Across Cities\")\n",
        "plt.show()"
      ]
    },
    {
      "cell_type": "code",
      "execution_count": null,
      "id": "f10fd043",
      "metadata": {
        "colab": {
          "base_uri": "https://localhost:8080/"
        },
        "id": "f10fd043",
        "outputId": "cc585b2b-a336-4ed2-82fb-ad2afb309eca"
      },
      "outputs": [
        {
          "output_type": "stream",
          "name": "stdout",
          "text": [
            "Temperature Analysis:\n",
            "Hottest city: London (19.13°C)\n",
            "Coldest city: London (19.13°C)\n",
            "Temperature difference: 0.0°C\n"
          ]
        }
      ],
      "source": [
        "\n",
        "# The hottest and coldest cities\n",
        "hottest_city = weather_df.loc[weather_df['Temperature (°C)'].idxmax()]\n",
        "coldest_city = weather_df.loc[weather_df['Temperature (°C)'].idxmin()]\n",
        "\n",
        "print(\"Temperature Analysis:\")\n",
        "print(f\"Hottest city: {hottest_city['city']} ({hottest_city['Temperature (°C)']}°C)\")\n",
        "print(f\"Coldest city: {coldest_city['city']} ({coldest_city['Temperature (°C)']}°C)\")\n",
        "print(f\"Temperature difference: {hottest_city['Temperature (°C)'] - coldest_city['Temperature (°C)']}°C\")"
      ]
    },
    {
      "cell_type": "code",
      "execution_count": null,
      "id": "946ca275",
      "metadata": {
        "colab": {
          "base_uri": "https://localhost:8080/"
        },
        "id": "946ca275",
        "outputId": "cce6273d-ce09-4e53-cbac-7812aea77313"
      },
      "outputs": [
        {
          "output_type": "stream",
          "name": "stdout",
          "text": [
            "Humidity Analysis:\n",
            "Most humid: London, (76%)\n",
            "Least humid: London, (76%)\n",
            "Average humidity: 76.0%\n"
          ]
        }
      ],
      "source": [
        "# Find humidity patterns\n",
        "most_humid = weather_df.loc[weather_df['Humidity (%)'].idxmax()]\n",
        "least_humid = weather_df.loc[weather_df['Humidity (%)'].idxmin()]\n",
        "\n",
        "print(\"Humidity Analysis:\")\n",
        "print(f\"Most humid: {most_humid['city']}, ({most_humid['Humidity (%)']}%)\")\n",
        "print(f\"Least humid: {least_humid['city']}, ({least_humid['Humidity (%)']}%)\")\n",
        "print(f\"Average humidity: {weather_df['Humidity (%)'].mean():.1f}%\")"
      ]
    },
    {
      "cell_type": "code",
      "execution_count": null,
      "id": "b3bcfef3",
      "metadata": {
        "colab": {
          "base_uri": "https://localhost:8080/"
        },
        "id": "b3bcfef3",
        "outputId": "bfe3070d-276c-4de7-db30-5537cac15e3f"
      },
      "outputs": [
        {
          "output_type": "stream",
          "name": "stdout",
          "text": [
            "Weather Conditions Summary:\n",
            "   Overcast Clouds: 1 cities\n"
          ]
        }
      ],
      "source": [
        "# Look at weather descriptions\n",
        "# 🔎 Can you spot the error in the code below?\n",
        "\n",
        "print(\"Weather Conditions Summary:\")\n",
        "weather_counts = weather_df['Weather Description'].value_counts()\n",
        "for condition, count in weather_counts.items():\n",
        "    print(f\"   {condition.title()}: {count} cities\")"
      ]
    },
    {
      "cell_type": "code",
      "execution_count": null,
      "id": "9cf5f5ce",
      "metadata": {
        "colab": {
          "base_uri": "https://localhost:8080/"
        },
        "id": "9cf5f5ce",
        "outputId": "56967b38-2b34-4770-f6fb-eb751d49f924"
      },
      "outputs": [
        {
          "output_type": "stream",
          "name": "stdout",
          "text": [
            "     City  Temperature (°C)  Humidity (%) Weather Description\n",
            "0  London             22.18            55     overcast clouds\n"
          ]
        }
      ],
      "source": [
        "# Troubleshooting cell for debugging\n",
        "\n",
        "print(weather_df)"
      ]
    },
    {
      "cell_type": "code",
      "source": [
        "if \"main\" in data:\n",
        "    city = data[\"name\"]\n",
        "    temp = data[\"main\"][\"temp\"]\n",
        "    humidity = data[\"main\"][\"humidity\"]\n",
        "    weather = data[\"weather\"][0][\"description\"]\n",
        "\n",
        "    print(f\"City: {city}\\nTemperature: {temp}°C\\nHumidity: {humidity}%\\nWeather: {weather}\")\n",
        "else:\n",
        "    print(\"Error fetching weather data.\")"
      ],
      "metadata": {
        "colab": {
          "base_uri": "https://localhost:8080/"
        },
        "id": "0-20e_7-JLYr",
        "outputId": "b6e62c1f-8b48-4482-eace-195cdd42b7b3"
      },
      "id": "0-20e_7-JLYr",
      "execution_count": null,
      "outputs": [
        {
          "output_type": "stream",
          "name": "stdout",
          "text": [
            "City: Sydney\n",
            "Temperature: 9.77°C\n",
            "Humidity: 64%\n",
            "Weather: clear sky\n"
          ]
        }
      ]
    },
    {
      "cell_type": "code",
      "source": [
        "import requests\n",
        "import pandas as pd\n",
        "\n",
        "# Define your OpenWeather API key\n",
        "API_KEY = \"f822a1237dd31a0a06230568290599c8\"  # Replace with your actual API key!\n",
        "\n",
        "cities = [\"London\", \"New York\", \"Paris\", \"Tokyo\", \"Sydney\"]\n",
        "weather_data = []\n",
        "\n",
        "for city in cities:\n",
        "    url = f\"https://api.openweathermap.org/data/2.5/weather?q={city}&appid={API_KEY}&units=metric\"\n",
        "    response = requests.get(url)\n",
        "    data = response.json()\n",
        "\n",
        "    if \"main\" in data:\n",
        "        weather_data.append({\n",
        "            \"City\": city,\n",
        "            \"Temperature (°C)\": data[\"main\"][\"temp\"],\n",
        "            \"Humidity (%)\": data[\"main\"][\"humidity\"],\n",
        "            \"Weather Description\": data[\"weather\"][0][\"description\"]\n",
        "        })\n",
        "\n",
        "# Convert to DataFrame\n",
        "weather_df = pd.DataFrame(weather_data)\n",
        "print(weather_df)"
      ],
      "metadata": {
        "colab": {
          "base_uri": "https://localhost:8080/"
        },
        "id": "J0FSyYJ4JW8I",
        "outputId": "ec360e0d-ffd2-4f0b-ed7d-2d5dd71b4fcd"
      },
      "id": "J0FSyYJ4JW8I",
      "execution_count": null,
      "outputs": [
        {
          "output_type": "stream",
          "name": "stdout",
          "text": [
            "       City  Temperature (°C)  Humidity (%) Weather Description\n",
            "0    London             23.41            49    scattered clouds\n",
            "1  New York             27.59            68           clear sky\n",
            "2     Paris             22.04            52       broken clouds\n",
            "3     Tokyo             29.70            72       broken clouds\n",
            "4    Sydney             11.89            63    scattered clouds\n"
          ]
        }
      ]
    },
    {
      "cell_type": "code",
      "source": [
        "weather_df.to_csv(\"weather_data.csv\", index=False)\n",
        "print(\"Data saved to weather_data.csv\")"
      ],
      "metadata": {
        "colab": {
          "base_uri": "https://localhost:8080/"
        },
        "id": "IoJSeH4XJzR9",
        "outputId": "d38a0989-e7b5-41f6-9a37-50f6497da751"
      },
      "id": "IoJSeH4XJzR9",
      "execution_count": null,
      "outputs": [
        {
          "output_type": "stream",
          "name": "stdout",
          "text": [
            "Data saved to weather_data.csv\n"
          ]
        }
      ]
    }
  ],
  "metadata": {
    "kernelspec": {
      "display_name": "practice",
      "language": "python",
      "name": "python3"
    },
    "language_info": {
      "codemirror_mode": {
        "name": "ipython",
        "version": 3
      },
      "file_extension": ".py",
      "mimetype": "text/x-python",
      "name": "python",
      "nbconvert_exporter": "python",
      "pygments_lexer": "ipython3",
      "version": "3.12.4"
    },
    "colab": {
      "provenance": [],
      "include_colab_link": true
    }
  },
  "nbformat": 4,
  "nbformat_minor": 5
}